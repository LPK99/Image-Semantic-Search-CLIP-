{
 "cells": [
  {
   "cell_type": "code",
   "execution_count": null,
   "id": "4ea05d02",
   "metadata": {},
   "outputs": [],
   "source": [
    "import os\n",
    "\n",
    "import clip\n",
    "import torch\n",
    "from PIL import Image\n",
    "from sklearn.metrics.pairwise import cosine_similarity\n",
    "\n",
    "HOME_DIR = \"/content/drive/MyDrive/dataset\"\n",
    "\n",
    "device = \"cuda\" if torch.cuda.is_available() else \"cpu\"\n",
    "model, preprocess = clip.load(\"ViT-B/32\", device=device)\n",
    "\n",
    "images = []"
   ]
  },
  {
   "cell_type": "code",
   "execution_count": null,
   "id": "ab093b7a",
   "metadata": {},
   "outputs": [],
   "source": [
    "import faiss\n",
    "import json\n",
    "import numpy as np\n",
    " \n",
    "def retrieve_embeddings():\n",
    "  if os.path.exists(\"index.bin\"):\n",
    "      index = faiss.read_index(\"index.bin\")\n",
    "      with open(\"references.json\", \"r\") as f:\n",
    "          data = json.load(f)\n",
    "  else:\n",
    "      index = faiss.IndexFlatL2(512)\n",
    "\n",
    "      images = []\n",
    "\n",
    "      for item in os.listdir(HOME_DIR):\n",
    "          if item.lower().endswith((\".jpg\", \".jpeg\", \".png\")):\n",
    "              image = (\n",
    "                  preprocess(Image.open(os.path.join(HOME_DIR, item)))\n",
    "                  .unsqueeze(0)\n",
    "                  .to(device)\n",
    "              )\n",
    "              images.append((item, image))\n",
    "          else:\n",
    "              continue\n",
    "\n",
    "      data = []\n",
    "\n",
    "      for i in images:\n",
    "          with torch.no_grad():\n",
    "              image_features = model.encode_image(i[1])\n",
    "              image_features /= image_features.norm(dim=-1, keepdim=True)\n",
    "\n",
    "              data.append(\n",
    "                  {\n",
    "                      \"image\": i[0],\n",
    "                      \"features\": np.array(image_features.cpu().numpy()).tolist(),\n",
    "                  }\n",
    "              )\n",
    "\n",
    "              index.add(image_features.cpu().numpy())\n",
    "\n",
    "      faiss.write_index(index, \"index.bin\")\n",
    "\n",
    "      with open(\"references.json\", \"w\") as f:\n",
    "          json.dump(data, f)\n",
    "          \n",
    "  return index, data\n"
   ]
  },
  {
   "cell_type": "code",
   "execution_count": null,
   "id": "499cb8a2",
   "metadata": {},
   "outputs": [],
   "source": [
    "query = input(\"Enter a search query: \")\n",
    "\n",
    "tokenized_query = clip.tokenize([query]).to(device)\n",
    "print(tokenized_query)"
   ]
  },
  {
   "cell_type": "code",
   "execution_count": null,
   "id": "a67f2394",
   "metadata": {},
   "outputs": [],
   "source": [
    "with torch.no_grad():\n",
    "    text_features = model.encode_text(tokenized_query)\n",
    "    text_features /= text_features.norm(dim=-1, keepdim=True)\n",
    "\n",
    "    index, data = retrieve_embeddings()\n",
    "\n",
    "    D, I = index.search(text_features.cpu().numpy(), k=3)\n",
    "\n",
    "    for i in I[0]:\n",
    "        print(data[i][\"image\"])\n",
    "        # open image\n",
    "        image = Image.open(os.path.join(HOME_DIR, data[i][\"image\"]))\n",
    "        image.show()"
   ]
  }
 ],
 "metadata": {
  "kernelspec": {
   "display_name": "img-re",
   "language": "python",
   "name": "img-re"
  },
  "language_info": {
   "codemirror_mode": {
    "name": "ipython",
    "version": 3
   },
   "file_extension": ".py",
   "mimetype": "text/x-python",
   "name": "python",
   "nbconvert_exporter": "python",
   "pygments_lexer": "ipython3",
   "version": "3.11.3"
  }
 },
 "nbformat": 4,
 "nbformat_minor": 5
}
